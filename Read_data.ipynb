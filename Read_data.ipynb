{
 "cells": [
  {
   "cell_type": "code",
   "execution_count": null,
   "id": "wanted-booth",
   "metadata": {},
   "outputs": [],
   "source": [
    "import json\n",
    "import pandas as pd\n",
    "import os\n",
    "from datetime import datetime"
   ]
  },
  {
   "cell_type": "code",
   "execution_count": null,
   "id": "downtown-cowboy",
   "metadata": {},
   "outputs": [],
   "source": [
    "df_main = pd.DataFrame()\n",
    "df_main['bike_numbers'] = ''"
   ]
  },
  {
   "cell_type": "code",
   "execution_count": null,
   "id": "skilled-joseph",
   "metadata": {},
   "outputs": [],
   "source": [
    "•\t\"places\": [\n",
    "    {\n",
    "        \"uid\": \"2585259\",\n",
    "        \"lat\": \"52.296298\",\n",
    "        \"lng\": \"20.9583575\",\n",
    "        \"name\": \"Dewajtis - UKSW\",\n",
    "        \"spot\": \"1\",\n",
    "        \"number\": \"9402\",\n",
    "        \"bikes\": \"20\",\n",
    "        \"bike_racks\": \"30\",\n",
    "        \"free_racks\": \"10\",\n",
    "        \"terminal_type\": \"7inch\",\n",
    "        \"bike_numbers\": \"24673,24612,28627,28434,28094,26860,26774,96490,96475,96372,96257\",\n",
    "        \"bike_types\": {\n",
    "            \"4\": 20\n",
    "        },\n",
    "        \"place_type\": \"0\",\n",
    "        \"rack_locks\": \"1\"\n",
    "    },\n"
   ]
  },
  {
   "cell_type": "code",
   "execution_count": null,
   "id": "republican-humanity",
   "metadata": {},
   "outputs": [],
   "source": [
    "#pobieranie daty z nazwy pliku\n",
    "def get_date(file):\n",
    "    base = os.path.basename(file)\n",
    "    clear_date = base.split('.')[0]\n",
    "    date_time = datetime.strptime(clear_date, '%Y%m%d_%H%M%S')\n",
    "    date = date_time.strftime(\"%d/%m/%Y, %H:%M:%S\")\n",
    "    return date"
   ]
  },
  {
   "cell_type": "code",
   "execution_count": null,
   "id": "pleased-pioneer",
   "metadata": {},
   "outputs": [],
   "source": [
    "a = 1\n",
    "path = os.getcwd() + '\\\\rowery\\\\rowery'\n",
    "files = [os.path.join(path, data_file) for data_file in sorted(os.listdir(path))]\n",
    "files"
   ]
  },
  {
   "cell_type": "code",
   "execution_count": null,
   "id": "still-marsh",
   "metadata": {},
   "outputs": [],
   "source": [
    "import numpy as np\n",
    "# podział na 4 pliki ponieważ 1 plik zajmuje zbyt dużo miejsca\n",
    "for i in range(0,4):\n",
    "    print(f\"Plik: {i+1} z 4\")\n",
    "    filename_main = f'all_lokalization_of_bike0{i}.csv'\n",
    "    \n",
    "    #podział plików po 1000 rekordów, ostatni plik jest więszky\n",
    "    if i < 3:\n",
    "        files_bike = files[i*1000:(i+1)*1000]\n",
    "    else:\n",
    "        files_bike = files[i*1000:]\n",
    "        \n",
    "    for file in files_bike:\n",
    "        print(f\" \\tOdczytywanie pliku: {a} z {len(files_bike)}\")\n",
    "        a+=1\n",
    "        d_T = get_date(file)\n",
    "        with open(file) as f:\n",
    "            all_data = json.load(f)\n",
    "            f.close()\n",
    "        try:\n",
    "            #pozyskiwanie numerów rowerów z danych\n",
    "            df = pd.DataFrame(all_data[0]['places'])\n",
    "            df = df.assign(bike_numbers=df['bike_numbers'].str.split(',')).dropna(subset=['bike_numbers']).explode('bike_numbers')\n",
    "            df = df.filter(['lat', 'lng', 'bike_numbers'])\n",
    "            df[d_T] = df['lat'] + ',' + df['lng']  \n",
    "\n",
    "            # zamiana kolumn bike_numbers na pierwszą i usunięcie\n",
    "            cols = df.columns.tolist()\n",
    "            cols.insert(0, cols.pop(cols.index('bike_numbers')))\n",
    "            df = df.reindex(columns=cols)\n",
    "            df = df.reset_index()\n",
    "            df = df.drop(columns=['lat', 'lng', 'index'])\n",
    "            df_main = pd.merge(df_main, df, on='bike_numbers', how='outer') # dopisywanie pliku do DataFrame main\n",
    "            del df\n",
    "        except:\n",
    "            print(f\"Nie można poprawnie odczytać pliku {file}\")\n",
    "    #df_main.to_csv(filename_main, encoding='utf-8', index=False)\n",
    "print(\"Koniec wczytywania plików\")"
   ]
  },
  {
   "cell_type": "code",
   "execution_count": null,
   "id": "infinite-heather",
   "metadata": {},
   "outputs": [],
   "source": [
    "df_main"
   ]
  },
  {
   "cell_type": "code",
   "execution_count": null,
   "id": "parliamentary-conjunction",
   "metadata": {},
   "outputs": [],
   "source": []
  },
  {
   "cell_type": "code",
   "execution_count": null,
   "id": "twenty-bulletin",
   "metadata": {},
   "outputs": [],
   "source": []
  }
 ],
 "metadata": {
  "kernelspec": {
   "display_name": "Python 3",
   "language": "python",
   "name": "python3"
  },
  "language_info": {
   "codemirror_mode": {
    "name": "ipython",
    "version": 3
   },
   "file_extension": ".py",
   "mimetype": "text/x-python",
   "name": "python",
   "nbconvert_exporter": "python",
   "pygments_lexer": "ipython3",
   "version": "3.9.1"
  }
 },
 "nbformat": 4,
 "nbformat_minor": 5
}
